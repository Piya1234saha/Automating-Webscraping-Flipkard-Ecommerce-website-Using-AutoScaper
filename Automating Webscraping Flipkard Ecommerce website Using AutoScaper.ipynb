{
 "cells": [
  {
   "cell_type": "code",
   "execution_count": 114,
   "id": "5722fb6c",
   "metadata": {},
   "outputs": [
    {
     "data": {
      "text/plain": [
       "'3.8.8 (default, Apr 13 2021, 15:08:03) [MSC v.1916 64 bit (AMD64)]'"
      ]
     },
     "execution_count": 114,
     "metadata": {},
     "output_type": "execute_result"
    }
   ],
   "source": [
    "import sys\n",
    "sys.version"
   ]
  },
  {
   "cell_type": "code",
   "execution_count": 115,
   "id": "2e95f2cf",
   "metadata": {},
   "outputs": [
    {
     "data": {
      "text/plain": [
       "'C:\\\\Users\\\\Piya\\\\Python_ML'"
      ]
     },
     "execution_count": 115,
     "metadata": {},
     "output_type": "execute_result"
    }
   ],
   "source": [
    "import os\n",
    "os.getcwd()"
   ]
  },
  {
   "cell_type": "code",
   "execution_count": 116,
   "id": "0fa2f79c",
   "metadata": {},
   "outputs": [],
   "source": [
    "import pandas as pd"
   ]
  },
  {
   "cell_type": "code",
   "execution_count": 117,
   "id": "e1a5627c",
   "metadata": {
    "scrolled": true
   },
   "outputs": [
    {
     "name": "stdout",
     "output_type": "stream",
     "text": [
      "Requirement already satisfied: autoscraper in c:\\users\\piya\\anaconda3\\lib\\site-packages (1.1.14)\n",
      "Requirement already satisfied: bs4 in c:\\users\\piya\\anaconda3\\lib\\site-packages (from autoscraper) (0.0.1)\n",
      "Requirement already satisfied: requests in c:\\users\\piya\\anaconda3\\lib\\site-packages (from autoscraper) (2.25.1)\n",
      "Requirement already satisfied: lxml in c:\\users\\piya\\anaconda3\\lib\\site-packages (from autoscraper) (4.6.3)\n",
      "Requirement already satisfied: beautifulsoup4 in c:\\users\\piya\\anaconda3\\lib\\site-packages (from bs4->autoscraper) (4.9.3)\n",
      "Requirement already satisfied: soupsieve>1.2 in c:\\users\\piya\\anaconda3\\lib\\site-packages (from beautifulsoup4->bs4->autoscraper) (2.2.1)\n",
      "Requirement already satisfied: urllib3<1.27,>=1.21.1 in c:\\users\\piya\\anaconda3\\lib\\site-packages (from requests->autoscraper) (1.26.4)\n",
      "Requirement already satisfied: idna<3,>=2.5 in c:\\users\\piya\\anaconda3\\lib\\site-packages (from requests->autoscraper) (2.10)\n",
      "Requirement already satisfied: certifi>=2017.4.17 in c:\\users\\piya\\anaconda3\\lib\\site-packages (from requests->autoscraper) (2020.12.5)\n",
      "Requirement already satisfied: chardet<5,>=3.0.2 in c:\\users\\piya\\anaconda3\\lib\\site-packages (from requests->autoscraper) (4.0.0)\n"
     ]
    }
   ],
   "source": [
    "!pip install autoscraper"
   ]
  },
  {
   "cell_type": "code",
   "execution_count": 119,
   "id": "56d2ddce",
   "metadata": {},
   "outputs": [],
   "source": [
    " import autoscraper\n",
    "    "
   ]
  },
  {
   "cell_type": "code",
   "execution_count": 62,
   "id": "e299370d",
   "metadata": {},
   "outputs": [],
   "source": [
    "from autoscraper import AutoScraper"
   ]
  },
  {
   "cell_type": "code",
   "execution_count": 97,
   "id": "69feeba5",
   "metadata": {},
   "outputs": [],
   "source": [
    "flipkart_url=\"https://www.flipkart.com/search?q=google%20pixel\""
   ]
  },
  {
   "cell_type": "code",
   "execution_count": 98,
   "id": "4823e614",
   "metadata": {},
   "outputs": [],
   "source": [
    "wanted_list=[\"₹29,999\",\"Google Pixel 6a (Chalk, 128 GB)\",\"1,775 Ratings & 329 Reviews\"]"
   ]
  },
  {
   "cell_type": "code",
   "execution_count": 99,
   "id": "59a3f339",
   "metadata": {},
   "outputs": [],
   "source": [
    "scraper= AutoScraper()"
   ]
  },
  {
   "cell_type": "code",
   "execution_count": 100,
   "id": "b9d382d0",
   "metadata": {
    "scrolled": true
   },
   "outputs": [
    {
     "name": "stdout",
     "output_type": "stream",
     "text": [
      "['₹2,199', '₹295', '₹29,999', '₹299', '₹219', '₹59,999', '₹84,999', '₹31,999', '₹2,799', '₹544', '₹2,399', '₹399', '₹179', '₹259', '₹1,899', 'Google Pixel 6a (Chalk, 128 GB)', 'Google Pixel 6a (Charcoal, 128 GB)', 'Google Pixel 7 (Lemongrass, 128 GB)', 'Google Pixel 7 (Obsidian, 128 GB)', 'Google Pixel 7 (Snow, 128 GB)', 'Google Pixel 7 Pro (Hazel, 128 GB)', 'Google Pixel 7 Pro (Snow, 128 GB)', 'Google Pixel 7 Pro (Obsidian, 128 GB)', 'Google Pixel 4a (Just Black, 128 GB)', 'Google 30W - 5A ,USB-C,Power Adaptor for Google devices', 'Fire-Boltt Rise�BT Calling, 1.85\", Voice Assistance & 123 Sports Single BT Connection Smartwatch', 'RoarX 20 W 3 A Mobile Type C to Lightning Original PD adapter for i-Phone 11/12/13/14 Pro Fast Charger', 'Google Back Cover for Google Pixel 7 pro', 'Sprig Tempered Glass Guard for Google Pixel 6a', 'XYNITY Tempered Glass Guard for Google Pixel 6A', 'Flipkart SmartBuy SLICK Multi Angle Mobile Stand. Phone Holder. Portable,Foldable Cell Phone Stand.Per...', 'GDBUY Tempered Glass Guard for Google Pixel 6a, Pixel 6a', 'Fire-Boltt Ring 2 Smartwatch', 'XTRENGTH Edge To Edge Tempered Glass for Google Pixel 4A', 'FAD-E Edge To Edge Tempered Glass for Google Pixel 6a', 'KrKis Back Cover for Google Pixel 6A', 'Fire-Boltt Rise�BT Calling, 1.85', '22,758 Ratings & 2,946 Reviews', '1,775 Ratings & 329 Reviews', '1,376 Ratings & 254 Reviews', '46,830 Ratings & 6,981 Reviews', '1,585 Ratings & 148 Reviews', '1,613 Ratings & 394 Reviews', '1,480 Ratings & 453 Reviews', '10 Ratings & 5 Reviews', '55 Ratings & 9 Reviews', '625 Ratings & 137 Reviews', '7,913 Ratings & 843 Reviews', '47 Ratings & 8 Reviews', '12,110 Ratings & 2,670 Reviews', '2,370 Ratings & 627 Reviews', '471 Ratings & 57 Reviews', '277 Ratings & 19 Reviews']\n"
     ]
    }
   ],
   "source": [
    "result=scraper.build(flipkart_url,wanted_list)\n",
    "print(result)"
   ]
  },
  {
   "cell_type": "code",
   "execution_count": 101,
   "id": "22d5660e",
   "metadata": {
    "scrolled": true
   },
   "outputs": [
    {
     "data": {
      "text/plain": [
       "{'rule_1tbu': ['₹2,199', '₹295', '₹29,999', '₹299', '₹219'],\n",
       " 'rule_p9zh': ['₹29,999',\n",
       "  '₹29,999',\n",
       "  '₹59,999',\n",
       "  '₹59,999',\n",
       "  '₹59,999',\n",
       "  '₹84,999',\n",
       "  '₹84,999',\n",
       "  '₹84,999',\n",
       "  '₹31,999',\n",
       "  '₹2,199',\n",
       "  '₹2,799',\n",
       "  '₹544',\n",
       "  '₹2,799',\n",
       "  '₹2,799',\n",
       "  '₹2,799',\n",
       "  '₹2,399',\n",
       "  '₹399',\n",
       "  '₹299',\n",
       "  '₹179',\n",
       "  '₹259',\n",
       "  '₹1,899',\n",
       "  '₹299',\n",
       "  '₹295',\n",
       "  '₹219'],\n",
       " 'rule_w70z': ['₹29,999',\n",
       "  '₹29,999',\n",
       "  '₹59,999',\n",
       "  '₹59,999',\n",
       "  '₹59,999',\n",
       "  '₹84,999',\n",
       "  '₹84,999',\n",
       "  '₹84,999',\n",
       "  '₹31,999',\n",
       "  '₹2,199',\n",
       "  '₹2,799',\n",
       "  '₹544',\n",
       "  '₹2,799',\n",
       "  '₹2,799',\n",
       "  '₹2,799',\n",
       "  '₹2,399',\n",
       "  '₹399',\n",
       "  '₹299',\n",
       "  '₹179',\n",
       "  '₹259',\n",
       "  '₹1,899',\n",
       "  '₹299',\n",
       "  '₹295',\n",
       "  '₹219'],\n",
       " 'rule_7gru': ['Google Pixel 6a (Chalk, 128 GB)',\n",
       "  'Google Pixel 6a (Charcoal, 128 GB)',\n",
       "  'Google Pixel 7 (Lemongrass, 128 GB)',\n",
       "  'Google Pixel 7 (Obsidian, 128 GB)',\n",
       "  'Google Pixel 7 (Snow, 128 GB)',\n",
       "  'Google Pixel 7 Pro (Hazel, 128 GB)',\n",
       "  'Google Pixel 7 Pro (Snow, 128 GB)',\n",
       "  'Google Pixel 7 Pro (Obsidian, 128 GB)',\n",
       "  'Google Pixel 4a (Just Black, 128 GB)',\n",
       "  'Google 30W - 5A ,USB-C,Power Adaptor for Google devices',\n",
       "  'Fire-Boltt Rise�BT Calling, 1.85\", Voice Assistance & 123 Sports Single BT Connection Smartwatch',\n",
       "  'RoarX 20 W 3 A Mobile Type C to Lightning Original PD adapter for i-Phone 11/12/13/14 Pro Fast Charger',\n",
       "  'Fire-Boltt Rise�BT Calling, 1.85\", Voice Assistance & 123 Sports Single BT Connection Smartwatch',\n",
       "  'Fire-Boltt Rise�BT Calling, 1.85\", Voice Assistance & 123 Sports Single BT Connection Smartwatch',\n",
       "  'Fire-Boltt Rise�BT Calling, 1.85\", Voice Assistance & 123 Sports Single BT Connection Smartwatch',\n",
       "  'Google Back Cover for Google Pixel 7 pro',\n",
       "  'Sprig Tempered Glass Guard for Google Pixel 6a',\n",
       "  'XYNITY Tempered Glass Guard for Google Pixel 6A',\n",
       "  'Flipkart SmartBuy SLICK Multi Angle Mobile Stand. Phone Holder. Portable,Foldable Cell Phone Stand.Per...',\n",
       "  'GDBUY Tempered Glass Guard for Google Pixel 6a, Pixel 6a',\n",
       "  'Fire-Boltt Ring 2 Smartwatch',\n",
       "  'XTRENGTH Edge To Edge Tempered Glass for Google Pixel 4A',\n",
       "  'FAD-E Edge To Edge Tempered Glass for Google Pixel 6a',\n",
       "  'KrKis Back Cover for Google Pixel 6A'],\n",
       " 'rule_77i1': ['Google Pixel 6a (Chalk, 128 GB)',\n",
       "  'Google Pixel 6a (Charcoal, 128 GB)',\n",
       "  'Google Pixel 7 (Lemongrass, 128 GB)',\n",
       "  'Google Pixel 7 (Obsidian, 128 GB)',\n",
       "  'Google Pixel 7 (Snow, 128 GB)',\n",
       "  'Google Pixel 7 Pro (Hazel, 128 GB)',\n",
       "  'Google Pixel 7 Pro (Snow, 128 GB)',\n",
       "  'Google Pixel 7 Pro (Obsidian, 128 GB)',\n",
       "  'Google Pixel 4a (Just Black, 128 GB)',\n",
       "  'Google 30W - 5A ,USB-C,Power Adaptor for Google devices',\n",
       "  'Fire-Boltt Rise�BT Calling, 1.85',\n",
       "  'RoarX 20 W 3 A Mobile Type C to Lightning Original PD adapter for i-Phone 11/12/13/14 Pro Fast Charger',\n",
       "  'Fire-Boltt Rise�BT Calling, 1.85',\n",
       "  'Fire-Boltt Rise�BT Calling, 1.85',\n",
       "  'Fire-Boltt Rise�BT Calling, 1.85',\n",
       "  'Google Back Cover for Google Pixel 7 pro',\n",
       "  'Sprig Tempered Glass Guard for Google Pixel 6a',\n",
       "  'XYNITY Tempered Glass Guard for Google Pixel 6A',\n",
       "  'Flipkart SmartBuy SLICK Multi Angle Mobile Stand. Phone Holder. Portable,Foldable Cell Phone Stand.Per...',\n",
       "  'GDBUY Tempered Glass Guard for Google Pixel 6a, Pixel 6a',\n",
       "  'Fire-Boltt Ring 2 Smartwatch',\n",
       "  'XTRENGTH Edge To Edge Tempered Glass for Google Pixel 4A',\n",
       "  'FAD-E Edge To Edge Tempered Glass for Google Pixel 6a',\n",
       "  'KrKis Back Cover for Google Pixel 6A'],\n",
       " 'rule_r7rm': ['22,758 Ratings & 2,946 Reviews',\n",
       "  '22,758 Ratings & 2,946 Reviews',\n",
       "  '1,775 Ratings & 329 Reviews',\n",
       "  '1,775 Ratings & 329 Reviews',\n",
       "  '1,775 Ratings & 329 Reviews',\n",
       "  '1,376 Ratings & 254 Reviews',\n",
       "  '1,376 Ratings & 254 Reviews',\n",
       "  '1,376 Ratings & 254 Reviews',\n",
       "  '46,830 Ratings & 6,981 Reviews',\n",
       "  '1,585 Ratings & 148 Reviews',\n",
       "  '1,613 Ratings & 394 Reviews',\n",
       "  '1,480 Ratings & 453 Reviews',\n",
       "  '1,613 Ratings & 394 Reviews',\n",
       "  '1,613 Ratings & 394 Reviews',\n",
       "  '1,613 Ratings & 394 Reviews',\n",
       "  '10 Ratings & 5 Reviews',\n",
       "  '55 Ratings & 9 Reviews',\n",
       "  '625 Ratings & 137 Reviews',\n",
       "  '7,913 Ratings & 843 Reviews',\n",
       "  '47 Ratings & 8 Reviews',\n",
       "  '12,110 Ratings & 2,670 Reviews',\n",
       "  '2,370 Ratings & 627 Reviews',\n",
       "  '471 Ratings & 57 Reviews',\n",
       "  '277 Ratings & 19 Reviews'],\n",
       " 'rule_7x4y': ['22,758 Ratings & 2,946 Reviews',\n",
       "  '22,758 Ratings & 2,946 Reviews',\n",
       "  '1,775 Ratings & 329 Reviews',\n",
       "  '1,775 Ratings & 329 Reviews',\n",
       "  '1,775 Ratings & 329 Reviews',\n",
       "  '1,376 Ratings & 254 Reviews',\n",
       "  '1,376 Ratings & 254 Reviews',\n",
       "  '1,376 Ratings & 254 Reviews',\n",
       "  '46,830 Ratings & 6,981 Reviews',\n",
       "  '1,585 Ratings & 148 Reviews',\n",
       "  '1,613 Ratings & 394 Reviews',\n",
       "  '1,480 Ratings & 453 Reviews',\n",
       "  '1,613 Ratings & 394 Reviews',\n",
       "  '1,613 Ratings & 394 Reviews',\n",
       "  '1,613 Ratings & 394 Reviews',\n",
       "  '10 Ratings & 5 Reviews',\n",
       "  '55 Ratings & 9 Reviews',\n",
       "  '625 Ratings & 137 Reviews',\n",
       "  '7,913 Ratings & 843 Reviews',\n",
       "  '47 Ratings & 8 Reviews',\n",
       "  '12,110 Ratings & 2,670 Reviews',\n",
       "  '2,370 Ratings & 627 Reviews',\n",
       "  '471 Ratings & 57 Reviews',\n",
       "  '277 Ratings & 19 Reviews'],\n",
       " 'rule_c1xr': ['22,758 Ratings & 2,946 Reviews',\n",
       "  '22,758 Ratings & 2,946 Reviews',\n",
       "  '1,775 Ratings & 329 Reviews',\n",
       "  '1,775 Ratings & 329 Reviews',\n",
       "  '1,775 Ratings & 329 Reviews',\n",
       "  '1,376 Ratings & 254 Reviews',\n",
       "  '1,376 Ratings & 254 Reviews',\n",
       "  '1,376 Ratings & 254 Reviews',\n",
       "  '46,830 Ratings & 6,981 Reviews',\n",
       "  '1,585 Ratings & 148 Reviews',\n",
       "  '1,613 Ratings & 394 Reviews',\n",
       "  '1,480 Ratings & 453 Reviews',\n",
       "  '1,613 Ratings & 394 Reviews',\n",
       "  '1,613 Ratings & 394 Reviews',\n",
       "  '1,613 Ratings & 394 Reviews',\n",
       "  '10 Ratings & 5 Reviews',\n",
       "  '55 Ratings & 9 Reviews',\n",
       "  '625 Ratings & 137 Reviews',\n",
       "  '7,913 Ratings & 843 Reviews',\n",
       "  '47 Ratings & 8 Reviews',\n",
       "  '12,110 Ratings & 2,670 Reviews',\n",
       "  '2,370 Ratings & 627 Reviews',\n",
       "  '471 Ratings & 57 Reviews',\n",
       "  '277 Ratings & 19 Reviews']}"
      ]
     },
     "execution_count": 101,
     "metadata": {},
     "output_type": "execute_result"
    }
   ],
   "source": [
    "scraper.get_result_similar(flipkart_url,grouped=True)"
   ]
  },
  {
   "cell_type": "code",
   "execution_count": 103,
   "id": "e2187a49",
   "metadata": {},
   "outputs": [],
   "source": [
    "# saved all the info with title\n",
    "scraper.set_rule_aliases({'rule_7gru':'Title','rule_p9zh':'Price'})\n",
    "scraper.keep_rules(['rule_7gru','rule_p9zh'])\n",
    "scraper.save('flipkart-search')"
   ]
  },
  {
   "cell_type": "code",
   "execution_count": 104,
   "id": "08b00022",
   "metadata": {},
   "outputs": [],
   "source": [
    "Results=scraper.get_result_similar('https://www.flipkart.com/search?q=iphone%20%20mini',group_by_alias=True)"
   ]
  },
  {
   "cell_type": "code",
   "execution_count": 106,
   "id": "aa2dd1c0",
   "metadata": {},
   "outputs": [
    {
     "data": {
      "text/plain": [
       "['APPLE iPhone 12 mini (Black, 64 GB)',\n",
       " 'APPLE iPhone 12 mini (White, 64 GB)',\n",
       " 'APPLE iPhone 12 mini (Red, 256 GB)',\n",
       " 'APPLE iPhone 12 mini (Black, 256 GB)',\n",
       " 'APPLE iPhone 12 mini (Black, 128 GB)',\n",
       " 'APPLE iPhone 12 mini (Blue, 256 GB)',\n",
       " 'APPLE iPhone 13 mini (Blue, 128 GB)',\n",
       " 'APPLE iPhone 12 mini (Blue, 64 GB)',\n",
       " 'APPLE iPhone 12 mini (White, 128 GB)',\n",
       " 'APPLE iPhone 13 mini (Green, 512 GB)',\n",
       " 'APPLE iPhone 13 mini (Blue, 512 GB)',\n",
       " 'APPLE iPhone 13 mini (Pink, 512 GB)',\n",
       " 'APPLE iPhone 12 mini (Green, 64 GB)',\n",
       " 'APPLE iPhone 13 mini (Midnight, 512 GB)',\n",
       " 'APPLE iPhone 13 mini ((PRODUCT)RED, 512 GB)',\n",
       " 'APPLE iPhone 13 mini (Midnight, 128 GB)',\n",
       " 'APPLE iPhone 12 mini (Purple, 256 GB)',\n",
       " 'APPLE iPhone 13 mini (Green, 128 GB)',\n",
       " 'APPLE iPhone 12 mini (Blue, 128 GB)',\n",
       " 'APPLE iPhone 13 mini (Starlight, 128 GB)',\n",
       " 'APPLE iPhone 13 mini (Green, 256 GB)',\n",
       " 'APPLE iPhone 12 mini (Green, 256 GB)',\n",
       " 'APPLE iPhone 12 mini (White, 256 GB)',\n",
       " 'APPLE iPhone 13 mini ((PRODUCT)RED, 256 GB)']"
      ]
     },
     "execution_count": 106,
     "metadata": {},
     "output_type": "execute_result"
    }
   ],
   "source": [
    "Results['Title']"
   ]
  },
  {
   "cell_type": "code",
   "execution_count": 105,
   "id": "30840afb",
   "metadata": {},
   "outputs": [
    {
     "data": {
      "text/plain": [
       "['₹37,999',\n",
       " '₹38,999',\n",
       " '₹52,999',\n",
       " '₹52,999',\n",
       " '₹43,999',\n",
       " '₹52,999',\n",
       " '₹58,990',\n",
       " '₹38,999',\n",
       " '₹43,999',\n",
       " '₹79,990',\n",
       " '₹79,990',\n",
       " '₹79,990',\n",
       " '₹38,999',\n",
       " '₹79,990',\n",
       " '₹79,990',\n",
       " '₹58,990',\n",
       " '₹53,999',\n",
       " '₹58,990',\n",
       " '₹43,999',\n",
       " '₹58,990',\n",
       " '₹68,990',\n",
       " '₹53,999',\n",
       " '₹53,999',\n",
       " '₹68,990']"
      ]
     },
     "execution_count": 105,
     "metadata": {},
     "output_type": "execute_result"
    }
   ],
   "source": [
    "Results['Price']"
   ]
  },
  {
   "cell_type": "code",
   "execution_count": 108,
   "id": "2c84dc2e",
   "metadata": {},
   "outputs": [
    {
     "data": {
      "text/plain": [
       "{'Price': ['₹37,999',\n",
       "  '₹38,999',\n",
       "  '₹52,999',\n",
       "  '₹52,999',\n",
       "  '₹43,999',\n",
       "  '₹52,999',\n",
       "  '₹58,990',\n",
       "  '₹38,999',\n",
       "  '₹43,999',\n",
       "  '₹79,990',\n",
       "  '₹79,990',\n",
       "  '₹79,990',\n",
       "  '₹38,999',\n",
       "  '₹79,990',\n",
       "  '₹79,990',\n",
       "  '₹58,990',\n",
       "  '₹53,999',\n",
       "  '₹58,990',\n",
       "  '₹43,999',\n",
       "  '₹58,990',\n",
       "  '₹68,990',\n",
       "  '₹53,999',\n",
       "  '₹53,999',\n",
       "  '₹68,990'],\n",
       " 'Title': ['APPLE iPhone 12 mini (Black, 64 GB)',\n",
       "  'APPLE iPhone 12 mini (White, 64 GB)',\n",
       "  'APPLE iPhone 12 mini (Red, 256 GB)',\n",
       "  'APPLE iPhone 12 mini (Black, 256 GB)',\n",
       "  'APPLE iPhone 12 mini (Black, 128 GB)',\n",
       "  'APPLE iPhone 12 mini (Blue, 256 GB)',\n",
       "  'APPLE iPhone 13 mini (Blue, 128 GB)',\n",
       "  'APPLE iPhone 12 mini (Blue, 64 GB)',\n",
       "  'APPLE iPhone 12 mini (White, 128 GB)',\n",
       "  'APPLE iPhone 13 mini (Green, 512 GB)',\n",
       "  'APPLE iPhone 13 mini (Blue, 512 GB)',\n",
       "  'APPLE iPhone 13 mini (Pink, 512 GB)',\n",
       "  'APPLE iPhone 12 mini (Green, 64 GB)',\n",
       "  'APPLE iPhone 13 mini (Midnight, 512 GB)',\n",
       "  'APPLE iPhone 13 mini ((PRODUCT)RED, 512 GB)',\n",
       "  'APPLE iPhone 13 mini (Midnight, 128 GB)',\n",
       "  'APPLE iPhone 12 mini (Purple, 256 GB)',\n",
       "  'APPLE iPhone 13 mini (Green, 128 GB)',\n",
       "  'APPLE iPhone 12 mini (Blue, 128 GB)',\n",
       "  'APPLE iPhone 13 mini (Starlight, 128 GB)',\n",
       "  'APPLE iPhone 13 mini (Green, 256 GB)',\n",
       "  'APPLE iPhone 12 mini (Green, 256 GB)',\n",
       "  'APPLE iPhone 12 mini (White, 256 GB)',\n",
       "  'APPLE iPhone 13 mini ((PRODUCT)RED, 256 GB)']}"
      ]
     },
     "execution_count": 108,
     "metadata": {},
     "output_type": "execute_result"
    }
   ],
   "source": [
    "Results"
   ]
  },
  {
   "cell_type": "code",
   "execution_count": 112,
   "id": "7f1e26ca",
   "metadata": {},
   "outputs": [
    {
     "name": "stdout",
     "output_type": "stream",
     "text": [
      "Sucessfully Scrapping iphone mini's \"title\" & \"Price\"\n"
     ]
    }
   ],
   "source": [
    "print('''Sucessfully Scrapping iphone mini's \"title\" & \"Price\"''')"
   ]
  }
 ],
 "metadata": {
  "kernelspec": {
   "display_name": "Python 3",
   "language": "python",
   "name": "python3"
  },
  "language_info": {
   "codemirror_mode": {
    "name": "ipython",
    "version": 3
   },
   "file_extension": ".py",
   "mimetype": "text/x-python",
   "name": "python",
   "nbconvert_exporter": "python",
   "pygments_lexer": "ipython3",
   "version": "3.8.8"
  }
 },
 "nbformat": 4,
 "nbformat_minor": 5
}
